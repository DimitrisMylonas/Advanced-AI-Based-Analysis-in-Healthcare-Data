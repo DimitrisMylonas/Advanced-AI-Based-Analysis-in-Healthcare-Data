{
 "cells": [
  {
   "cell_type": "code",
   "execution_count": 1,
   "id": "6f3c6ff9",
   "metadata": {
    "id": "6f3c6ff9"
   },
   "outputs": [],
   "source": [
    "import re\n",
    "import warnings\n",
    "import pandas as pd\n",
    "import numpy as np\n",
    "import xgboost as xgb\n",
    "from sklearn.model_selection import train_test_split\n",
    "from sklearn.tree import DecisionTreeClassifier\n",
    "from sklearn.linear_model import LogisticRegression\n",
    "from sklearn.metrics import confusion_matrix\n",
    "from imblearn.under_sampling import NearMiss\n",
    "from imblearn.over_sampling import SMOTE\n",
    "from sklearn.calibration import CalibratedClassifierCV\n",
    "from imblearn.pipeline import make_pipeline\n",
    "import matplotlib.pyplot as plt\n",
    "from imblearn.metrics import classification_report_imbalanced\n",
    "\n",
    "warnings.filterwarnings('ignore')"
   ]
  },
  {
   "cell_type": "code",
   "execution_count": 2,
   "id": "19b484ba",
   "metadata": {
    "colab": {
     "base_uri": "https://localhost:8080/",
     "height": 487
    },
    "executionInfo": {
     "elapsed": 8,
     "status": "ok",
     "timestamp": 1652209095762,
     "user": {
      "displayName": "Dimitris Mylonas",
      "userId": "13692180599828237411"
     },
     "user_tz": -180
    },
    "id": "19b484ba",
    "outputId": "5113a83b-2c08-4b21-f7d9-bb2e164bcf5a"
   },
   "outputs": [],
   "source": [
    "cardio = pd.read_csv('cardio_cleaned.csv')\n",
    "cardio.head()\n",
    "\n",
    "random_seed = 1361"
   ]
  },
  {
   "cell_type": "code",
   "execution_count": 3,
   "id": "ZK8cF6JwXQCa",
   "metadata": {
    "id": "ZK8cF6JwXQCa"
   },
   "outputs": [],
   "source": [
    "cardio.drop(['smoking_no'], axis = 1, inplace = True)"
   ]
  },
  {
   "cell_type": "code",
   "execution_count": 4,
   "id": "tb9x4pwnX27v",
   "metadata": {
    "id": "tb9x4pwnX27v"
   },
   "outputs": [],
   "source": [
    "data = cardio.rename(columns={ \"smoking_yes\": \"smoking\"})"
   ]
  },
  {
   "cell_type": "code",
   "execution_count": 5,
   "id": "db75e299",
   "metadata": {
    "colab": {
     "base_uri": "https://localhost:8080/",
     "height": 487
    },
    "executionInfo": {
     "elapsed": 13,
     "status": "ok",
     "timestamp": 1652209097159,
     "user": {
      "displayName": "Dimitris Mylonas",
      "userId": "13692180599828237411"
     },
     "user_tz": -180
    },
    "id": "db75e299",
    "outputId": "230c21f6-e837-4497-f295-23add8af2c14"
   },
   "outputs": [
    {
     "data": {
      "text/html": [
       "<div>\n",
       "<style scoped>\n",
       "    .dataframe tbody tr th:only-of-type {\n",
       "        vertical-align: middle;\n",
       "    }\n",
       "\n",
       "    .dataframe tbody tr th {\n",
       "        vertical-align: top;\n",
       "    }\n",
       "\n",
       "    .dataframe thead th {\n",
       "        text-align: right;\n",
       "    }\n",
       "</style>\n",
       "<table border=\"1\" class=\"dataframe\">\n",
       "  <thead>\n",
       "    <tr style=\"text-align: right;\">\n",
       "      <th></th>\n",
       "      <th>age</th>\n",
       "      <th>height</th>\n",
       "      <th>weight</th>\n",
       "      <th>systolic_bp</th>\n",
       "      <th>diastolic_bp</th>\n",
       "      <th>target</th>\n",
       "      <th>gender_female</th>\n",
       "      <th>gender_male</th>\n",
       "      <th>cholesterol_high</th>\n",
       "      <th>cholesterol_normal</th>\n",
       "      <th>cholesterol_very_high</th>\n",
       "      <th>glucose_high</th>\n",
       "      <th>glucose_normal</th>\n",
       "      <th>glucose_very_high</th>\n",
       "      <th>smoking</th>\n",
       "      <th>alcohol_intake_no</th>\n",
       "      <th>alcohol_intake_yes</th>\n",
       "      <th>physical_activity_no</th>\n",
       "      <th>physical_activity_yes</th>\n",
       "    </tr>\n",
       "  </thead>\n",
       "  <tbody>\n",
       "    <tr>\n",
       "      <th>0</th>\n",
       "      <td>50</td>\n",
       "      <td>168</td>\n",
       "      <td>62.0</td>\n",
       "      <td>110</td>\n",
       "      <td>80</td>\n",
       "      <td>0</td>\n",
       "      <td>0</td>\n",
       "      <td>1</td>\n",
       "      <td>0</td>\n",
       "      <td>1</td>\n",
       "      <td>0</td>\n",
       "      <td>0</td>\n",
       "      <td>1</td>\n",
       "      <td>0</td>\n",
       "      <td>0</td>\n",
       "      <td>1</td>\n",
       "      <td>0</td>\n",
       "      <td>0</td>\n",
       "      <td>1</td>\n",
       "    </tr>\n",
       "    <tr>\n",
       "      <th>1</th>\n",
       "      <td>55</td>\n",
       "      <td>156</td>\n",
       "      <td>85.0</td>\n",
       "      <td>140</td>\n",
       "      <td>90</td>\n",
       "      <td>1</td>\n",
       "      <td>1</td>\n",
       "      <td>0</td>\n",
       "      <td>0</td>\n",
       "      <td>0</td>\n",
       "      <td>1</td>\n",
       "      <td>0</td>\n",
       "      <td>1</td>\n",
       "      <td>0</td>\n",
       "      <td>0</td>\n",
       "      <td>1</td>\n",
       "      <td>0</td>\n",
       "      <td>0</td>\n",
       "      <td>1</td>\n",
       "    </tr>\n",
       "    <tr>\n",
       "      <th>2</th>\n",
       "      <td>51</td>\n",
       "      <td>165</td>\n",
       "      <td>64.0</td>\n",
       "      <td>130</td>\n",
       "      <td>70</td>\n",
       "      <td>1</td>\n",
       "      <td>1</td>\n",
       "      <td>0</td>\n",
       "      <td>0</td>\n",
       "      <td>0</td>\n",
       "      <td>1</td>\n",
       "      <td>0</td>\n",
       "      <td>1</td>\n",
       "      <td>0</td>\n",
       "      <td>0</td>\n",
       "      <td>1</td>\n",
       "      <td>0</td>\n",
       "      <td>1</td>\n",
       "      <td>0</td>\n",
       "    </tr>\n",
       "    <tr>\n",
       "      <th>3</th>\n",
       "      <td>48</td>\n",
       "      <td>169</td>\n",
       "      <td>82.0</td>\n",
       "      <td>150</td>\n",
       "      <td>100</td>\n",
       "      <td>1</td>\n",
       "      <td>0</td>\n",
       "      <td>1</td>\n",
       "      <td>0</td>\n",
       "      <td>1</td>\n",
       "      <td>0</td>\n",
       "      <td>0</td>\n",
       "      <td>1</td>\n",
       "      <td>0</td>\n",
       "      <td>0</td>\n",
       "      <td>1</td>\n",
       "      <td>0</td>\n",
       "      <td>0</td>\n",
       "      <td>1</td>\n",
       "    </tr>\n",
       "    <tr>\n",
       "      <th>4</th>\n",
       "      <td>47</td>\n",
       "      <td>156</td>\n",
       "      <td>56.0</td>\n",
       "      <td>100</td>\n",
       "      <td>60</td>\n",
       "      <td>0</td>\n",
       "      <td>1</td>\n",
       "      <td>0</td>\n",
       "      <td>0</td>\n",
       "      <td>1</td>\n",
       "      <td>0</td>\n",
       "      <td>0</td>\n",
       "      <td>1</td>\n",
       "      <td>0</td>\n",
       "      <td>0</td>\n",
       "      <td>1</td>\n",
       "      <td>0</td>\n",
       "      <td>1</td>\n",
       "      <td>0</td>\n",
       "    </tr>\n",
       "  </tbody>\n",
       "</table>\n",
       "</div>"
      ],
      "text/plain": [
       "   age  height  weight  systolic_bp  diastolic_bp  target  gender_female  \\\n",
       "0   50     168    62.0          110            80       0              0   \n",
       "1   55     156    85.0          140            90       1              1   \n",
       "2   51     165    64.0          130            70       1              1   \n",
       "3   48     169    82.0          150           100       1              0   \n",
       "4   47     156    56.0          100            60       0              1   \n",
       "\n",
       "   gender_male  cholesterol_high  cholesterol_normal  cholesterol_very_high  \\\n",
       "0            1                 0                   1                      0   \n",
       "1            0                 0                   0                      1   \n",
       "2            0                 0                   0                      1   \n",
       "3            1                 0                   1                      0   \n",
       "4            0                 0                   1                      0   \n",
       "\n",
       "   glucose_high  glucose_normal  glucose_very_high  smoking  \\\n",
       "0             0               1                  0        0   \n",
       "1             0               1                  0        0   \n",
       "2             0               1                  0        0   \n",
       "3             0               1                  0        0   \n",
       "4             0               1                  0        0   \n",
       "\n",
       "   alcohol_intake_no  alcohol_intake_yes  physical_activity_no  \\\n",
       "0                  1                   0                     0   \n",
       "1                  1                   0                     0   \n",
       "2                  1                   0                     1   \n",
       "3                  1                   0                     0   \n",
       "4                  1                   0                     1   \n",
       "\n",
       "   physical_activity_yes  \n",
       "0                      1  \n",
       "1                      1  \n",
       "2                      0  \n",
       "3                      1  \n",
       "4                      0  "
      ]
     },
     "execution_count": 5,
     "metadata": {},
     "output_type": "execute_result"
    }
   ],
   "source": [
    "data.head()"
   ]
  },
  {
   "cell_type": "code",
   "execution_count": 6,
   "id": "15af2e3a",
   "metadata": {
    "colab": {
     "base_uri": "https://localhost:8080/"
    },
    "executionInfo": {
     "elapsed": 12,
     "status": "ok",
     "timestamp": 1652209097161,
     "user": {
      "displayName": "Dimitris Mylonas",
      "userId": "13692180599828237411"
     },
     "user_tz": -180
    },
    "id": "15af2e3a",
    "outputId": "05bd66c5-916f-4203-c649-12ae97888855"
   },
   "outputs": [
    {
     "name": "stdout",
     "output_type": "stream",
     "text": [
      "0    54992\n",
      "1     5150\n",
      "Name: smoking, dtype: int64\n"
     ]
    }
   ],
   "source": [
    "#Chech for class imbalance\n",
    "print(data.smoking.value_counts())"
   ]
  },
  {
   "cell_type": "code",
   "execution_count": 7,
   "id": "xsQVozJAaOCG",
   "metadata": {
    "id": "xsQVozJAaOCG"
   },
   "outputs": [],
   "source": [
    "y = data['smoking']\n",
    "X = data.drop(labels = ['smoking', 'target'], axis = 1)\n",
    "\n",
    "X_train, X_test, y_train, y_test = train_test_split(X, y, random_state = random_seed, stratify = y)"
   ]
  },
  {
   "cell_type": "markdown",
   "id": "9BrvlELwSDSh",
   "metadata": {
    "id": "9BrvlELwSDSh"
   },
   "source": [
    "**Baseline evaluation without handling class imbalance**\n",
    "\n",
    "---\n",
    "\n",
    "\n",
    "\n",
    "\n"
   ]
  },
  {
   "cell_type": "code",
   "execution_count": 8,
   "id": "72dd5a53",
   "metadata": {},
   "outputs": [],
   "source": [
    "clf_names = ['Decision Tree', 'LogisticRegression', 'XGBoost']\n",
    "classifiers = [DecisionTreeClassifier(criterion = 'entropy', max_depth = 15,  random_state = random_seed), \n",
    "               LogisticRegression(solver = 'saga', max_iter = 1000, random_state = random_seed),\n",
    "               xgb.XGBClassifier(random_state = random_seed, verbosity = 0)]"
   ]
  },
  {
   "cell_type": "code",
   "execution_count": 9,
   "id": "7La81WryKgKn",
   "metadata": {
    "colab": {
     "base_uri": "https://localhost:8080/"
    },
    "executionInfo": {
     "elapsed": 102217,
     "status": "ok",
     "timestamp": 1652209201621,
     "user": {
      "displayName": "Dimitris Mylonas",
      "userId": "13692180599828237411"
     },
     "user_tz": -180
    },
    "id": "7La81WryKgKn",
    "outputId": "595ff480-bdf7-4145-c33a-2fe960344852"
   },
   "outputs": [
    {
     "name": "stdout",
     "output_type": "stream",
     "text": [
      "Classifier: Decision Tree\n",
      "\n",
      "                   pre       rec       spe        f1       geo       iba       sup\n",
      "\n",
      "     Smoker       0.93      0.97      0.23      0.95      0.48      0.24     13748\n",
      " Non-smoker       0.41      0.23      0.97      0.30      0.48      0.21      1288\n",
      "\n",
      "avg / total       0.89      0.91      0.30      0.89      0.48      0.24     15036\n",
      "\n",
      "[[13314   986]\n",
      " [  434   302]]\n",
      "\n",
      "False Positives: 986\n",
      "---------------------------------------------------------\n",
      "\n",
      "Classifier: LogisticRegression\n",
      "\n",
      "                   pre       rec       spe        f1       geo       iba       sup\n",
      "\n",
      "     Smoker       0.94      0.99      0.28      0.96      0.52      0.29     13748\n",
      " Non-smoker       0.66      0.28      0.99      0.39      0.52      0.25      1288\n",
      "\n",
      "avg / total       0.91      0.93      0.34      0.91      0.52      0.29     15036\n",
      "\n",
      "[[13568   931]\n",
      " [  180   357]]\n",
      "\n",
      "False Positives: 931\n",
      "---------------------------------------------------------\n",
      "\n",
      "Classifier: XGBoost\n",
      "\n",
      "                   pre       rec       spe        f1       geo       iba       sup\n",
      "\n",
      "     Smoker       0.93      0.99      0.24      0.96      0.49      0.26     13748\n",
      " Non-smoker       0.63      0.24      0.99      0.35      0.49      0.22      1288\n",
      "\n",
      "avg / total       0.91      0.92      0.31      0.91      0.49      0.25     15036\n",
      "\n",
      "[[13564   976]\n",
      " [  184   312]]\n",
      "\n",
      "False Positives: 976\n",
      "---------------------------------------------------------\n",
      "\n"
     ]
    }
   ],
   "source": [
    "baseline_results = []\n",
    "\n",
    "for name, clf in zip(clf_names, classifiers):\n",
    "    print(f\"Classifier: {name}\\n\")\n",
    "    pipeline = make_pipeline(clf)\n",
    "    pipeline.fit(X_train, y_train)\n",
    "    y_pred = pipeline.predict(X_test)\n",
    "    clf.fit(X_train, y_train)\n",
    "    y_pred = clf.predict(X_test)\n",
    "    report = classification_report_imbalanced(y_test, y_pred, target_names = [\"Smoker\", \"Non-smoker\"])\n",
    "    print(report)\n",
    "    bal_acc = float(report.strip(\"\").split('\\n')[5].split('     ')[6].strip())\n",
    "    baseline_results.append(bal_acc)\n",
    "    \n",
    "    conf_matrix = confusion_matrix(y_test, y_pred).T \n",
    "    print(conf_matrix)\n",
    "    print(f\"\\nFalse Positives: {conf_matrix[0][1]}\")\n",
    "    print(\"---------------------------------------------------------\\n\")\n",
    "\n"
   ]
  },
  {
   "cell_type": "markdown",
   "id": "vGVXfyMNLDU_",
   "metadata": {
    "id": "vGVXfyMNLDU_"
   },
   "source": [
    "**SMOTE**"
   ]
  },
  {
   "cell_type": "code",
   "execution_count": 10,
   "id": "rlTGw_kKKi7H",
   "metadata": {
    "colab": {
     "base_uri": "https://localhost:8080/"
    },
    "executionInfo": {
     "elapsed": 474445,
     "status": "ok",
     "timestamp": 1652209676035,
     "user": {
      "displayName": "Dimitris Mylonas",
      "userId": "13692180599828237411"
     },
     "user_tz": -180
    },
    "id": "rlTGw_kKKi7H",
    "outputId": "4f40e411-3884-46f4-dc03-6d4be913333f"
   },
   "outputs": [
    {
     "name": "stdout",
     "output_type": "stream",
     "text": [
      "Classifier: Decision Tree with SMOTE\n",
      "\n",
      "                   pre       rec       spe        f1       geo       iba       sup\n",
      "\n",
      "     Smoker       0.94      0.89      0.44      0.91      0.62      0.40     13748\n",
      " Non-smoker       0.27      0.44      0.89      0.33      0.62      0.37      1288\n",
      "\n",
      "avg / total       0.89      0.85      0.48      0.86      0.62      0.40     15036\n",
      "\n",
      "[[12190   725]\n",
      " [ 1558   563]]\n",
      "\n",
      "False Positives: 725\n",
      "---------------------------------------------------------\n",
      "\n",
      "Classifier: LogisticRegression with SMOTE\n",
      "\n",
      "                   pre       rec       spe        f1       geo       iba       sup\n",
      "\n",
      "     Smoker       0.95      0.88      0.50      0.91      0.66      0.46     13748\n",
      " Non-smoker       0.28      0.50      0.88      0.36      0.66      0.42      1288\n",
      "\n",
      "avg / total       0.89      0.85      0.53      0.86      0.66      0.45     15036\n",
      "\n",
      "[[12073   644]\n",
      " [ 1675   644]]\n",
      "\n",
      "False Positives: 644\n",
      "---------------------------------------------------------\n",
      "\n",
      "Classifier: XGBoost with SMOTE\n",
      "\n",
      "                   pre       rec       spe        f1       geo       iba       sup\n",
      "\n",
      "     Smoker       0.93      0.97      0.27      0.95      0.51      0.28     13748\n",
      " Non-smoker       0.50      0.27      0.97      0.35      0.51      0.24      1288\n",
      "\n",
      "avg / total       0.90      0.91      0.33      0.90      0.51      0.28     15036\n",
      "\n",
      "[[13395   941]\n",
      " [  353   347]]\n",
      "\n",
      "False Positives: 941\n",
      "---------------------------------------------------------\n",
      "\n"
     ]
    }
   ],
   "source": [
    "smote_results = []\n",
    "\n",
    "for name, clf in zip(clf_names, classifiers):\n",
    "    print(f\"Classifier: {name} with SMOTE\\n\")\n",
    "    pipeline = make_pipeline(SMOTE(n_jobs = -1, random_state = random_seed, k_neighbors = 3), clf)\n",
    "    pipeline.fit(X_train, y_train)\n",
    "    y_pred = pipeline.predict(X_test)\n",
    "    report = classification_report_imbalanced(y_test, y_pred, target_names = [\"Smoker\", \"Non-smoker\"])\n",
    "    print(report)\n",
    "    bal_acc = float(report.strip(\"\").split('\\n')[5].split('     ')[6].strip())\n",
    "    smote_results.append(bal_acc)\n",
    "    \n",
    "    conf_matrix = confusion_matrix(y_test, y_pred).T \n",
    "    print(conf_matrix)\n",
    "    print(f\"\\nFalse Positives: {conf_matrix[0][1]}\")\n",
    "    print(\"---------------------------------------------------------\\n\")"
   ]
  },
  {
   "cell_type": "markdown",
   "id": "A88WciPmb4Yy",
   "metadata": {
    "id": "A88WciPmb4Yy"
   },
   "source": [
    "**NearMiss3**"
   ]
  },
  {
   "cell_type": "code",
   "execution_count": 11,
   "id": "NRWNsKHcPSTQ",
   "metadata": {
    "colab": {
     "base_uri": "https://localhost:8080/"
    },
    "executionInfo": {
     "elapsed": 34223,
     "status": "ok",
     "timestamp": 1652209710232,
     "user": {
      "displayName": "Dimitris Mylonas",
      "userId": "13692180599828237411"
     },
     "user_tz": -180
    },
    "id": "NRWNsKHcPSTQ",
    "outputId": "0e62188c-601e-496b-b70c-9b1b98428165"
   },
   "outputs": [
    {
     "name": "stdout",
     "output_type": "stream",
     "text": [
      "Classifier: Decision Tree with NearMiss v3\n",
      "\n",
      "                   pre       rec       spe        f1       geo       iba       sup\n",
      "\n",
      "     Smoker       0.95      0.51      0.72      0.66      0.61      0.36     13748\n",
      " Non-smoker       0.12      0.72      0.51      0.21      0.61      0.37      1288\n",
      "\n",
      "avg / total       0.88      0.53      0.70      0.63      0.61      0.36     15036\n",
      "\n",
      "[[7026  364]\n",
      " [6722  924]]\n",
      "\n",
      "False Positives: 364\n",
      "---------------------------------------------------------\n",
      "\n",
      "Classifier: LogisticRegression with NearMiss v3\n",
      "\n",
      "                   pre       rec       spe        f1       geo       iba       sup\n",
      "\n",
      "     Smoker       0.98      0.71      0.84      0.82      0.77      0.59     13748\n",
      " Non-smoker       0.21      0.84      0.71      0.34      0.77      0.60      1288\n",
      "\n",
      "avg / total       0.91      0.72      0.83      0.78      0.77      0.59     15036\n",
      "\n",
      "[[9742  209]\n",
      " [4006 1079]]\n",
      "\n",
      "False Positives: 209\n",
      "---------------------------------------------------------\n",
      "\n",
      "Classifier: XGBoost with NearMiss v3\n",
      "\n",
      "                   pre       rec       spe        f1       geo       iba       sup\n",
      "\n",
      "     Smoker       0.96      0.56      0.75      0.71      0.65      0.41     13748\n",
      " Non-smoker       0.14      0.75      0.56      0.23      0.65      0.43      1288\n",
      "\n",
      "avg / total       0.89      0.58      0.73      0.67      0.65      0.42     15036\n",
      "\n",
      "[[7758  326]\n",
      " [5990  962]]\n",
      "\n",
      "False Positives: 326\n",
      "---------------------------------------------------------\n",
      "\n"
     ]
    }
   ],
   "source": [
    "nearmiss_results = []\n",
    "\n",
    "for name, clf in zip(clf_names, classifiers):\n",
    "    print(f\"Classifier: {name} with NearMiss v3\\n\")\n",
    "    pipeline = make_pipeline(NearMiss(version = 3, n_jobs = -1, n_neighbors_ver3 = 3), clf)\n",
    "    pipeline.fit(X_train, y_train)\n",
    "    y_pred = pipeline.predict(X_test)\n",
    "    report = classification_report_imbalanced(y_test, y_pred, target_names = [\"Smoker\", \"Non-smoker\"])\n",
    "    print(report)\n",
    "    bal_acc = float(report.strip(\"\").split('\\n')[5].split('     ')[6].strip())\n",
    "    nearmiss_results.append(bal_acc)\n",
    "    \n",
    "    conf_matrix = confusion_matrix(y_test, y_pred).T \n",
    "    print(conf_matrix)\n",
    "    print(f\"\\nFalse Positives: {conf_matrix[0][1]}\")\n",
    "    print(\"---------------------------------------------------------\\n\")"
   ]
  },
  {
   "cell_type": "markdown",
   "id": "MnjK7CbbcG4h",
   "metadata": {
    "id": "MnjK7CbbcG4h"
   },
   "source": [
    "**CostSensitiveLearning**"
   ]
  },
  {
   "cell_type": "code",
   "execution_count": 12,
   "id": "UkzKYBDIcFMR",
   "metadata": {
    "colab": {
     "base_uri": "https://localhost:8080/"
    },
    "executionInfo": {
     "elapsed": 64343,
     "status": "ok",
     "timestamp": 1652209774551,
     "user": {
      "displayName": "Dimitris Mylonas",
      "userId": "13692180599828237411"
     },
     "user_tz": -180
    },
    "id": "UkzKYBDIcFMR",
    "outputId": "ead0cc4b-99db-47b2-ff91-f5faf98de66e"
   },
   "outputs": [
    {
     "name": "stdout",
     "output_type": "stream",
     "text": [
      "Classifier: Decision Tree with isotonic calibration\n",
      "\n",
      "                   pre       rec       spe        f1       geo       iba       sup\n",
      "\n",
      "     Smoker       0.97      0.73      0.74      0.83      0.74      0.54     13748\n",
      " Non-smoker       0.20      0.74      0.73      0.32      0.74      0.54      1288\n",
      "\n",
      "avg / total       0.90      0.73      0.74      0.79      0.74      0.54     15036\n",
      "\n",
      "[[10043   335]\n",
      " [ 3705   953]]\n",
      "\n",
      "False Positives: 335\n",
      "---------------------------------------------------------\n",
      "\n",
      "Classifier: LogisticRegression with isotonic calibration\n",
      "\n",
      "                   pre       rec       spe        f1       geo       iba       sup\n",
      "\n",
      "     Smoker       0.99      0.69      0.89      0.81      0.78      0.60     13748\n",
      " Non-smoker       0.21      0.89      0.69      0.34      0.78      0.62      1288\n",
      "\n",
      "avg / total       0.92      0.71      0.87      0.77      0.78      0.60     15036\n",
      "\n",
      "[[9470  144]\n",
      " [4278 1144]]\n",
      "\n",
      "False Positives: 144\n",
      "---------------------------------------------------------\n",
      "\n",
      "Classifier: XGBoost with isotonic calibration\n",
      "\n",
      "                   pre       rec       spe        f1       geo       iba       sup\n",
      "\n",
      "     Smoker       0.98      0.69      0.86      0.81      0.77      0.59     13748\n",
      " Non-smoker       0.21      0.86      0.69      0.34      0.77      0.61      1288\n",
      "\n",
      "avg / total       0.92      0.71      0.85      0.77      0.77      0.59     15036\n",
      "\n",
      "[[9551  178]\n",
      " [4197 1110]]\n",
      "\n",
      "False Positives: 178\n",
      "---------------------------------------------------------\n",
      "\n"
     ]
    }
   ],
   "source": [
    "cost_matrix = [[0, 54992], [5150, 0]]\n",
    "cost_sens_results = []\n",
    "\n",
    "def predict(prob, cost_m):\n",
    "    t_BMR = (cost_m[1][0] - cost_m[1][1])/(cost_m[0][1] - cost_m[1][1] - cost_m[0][0] + cost_m[1][0])\n",
    "    y_pred = np.greater(y_prob[:, 1], t_BMR).astype(np.float)\n",
    "    \n",
    "    return y_pred\n",
    "\n",
    "for name, clf in zip(clf_names, classifiers):\n",
    "    print(f\"Classifier: {name} with isotonic calibration\\n\")\n",
    "    cc = CalibratedClassifierCV(clf, method=\"isotonic\", cv=2)\n",
    "    model = cc.fit(X_train, y_train)\n",
    "    y_prob = model.predict_proba(X_test)\n",
    "    y_pred = predict(y_prob, cost_matrix)\n",
    "    report = classification_report_imbalanced(y_test, y_pred, target_names = [\"Smoker\", \"Non-smoker\"])\n",
    "    print(report)\n",
    "    bal_acc = float(report.strip(\"\").split('\\n')[5].split('     ')[6].strip())\n",
    "    cost_sens_results.append(bal_acc)\n",
    "\n",
    "    conf_matrix = confusion_matrix(y_test, y_pred).T \n",
    "    print(conf_matrix) \n",
    "    print(f\"\\nFalse Positives: {conf_matrix[0][1]}\")\n",
    "    print(\"---------------------------------------------------------\\n\")"
   ]
  },
  {
   "cell_type": "code",
   "execution_count": 13,
   "id": "a6fc3478",
   "metadata": {},
   "outputs": [
    {
     "data": {
      "image/png": "[encoded data removed]",
      "text/plain": [
       "<Figure size 1080x720 with 1 Axes>"
      ]
     },
     "metadata": {
      "needs_background": "light"
     },
     "output_type": "display_data"
    }
   ],
   "source": [
    "fig, ax = plt.subplots(figsize=(15, 10))\n",
    "N = 3\n",
    "ind = np.arange(N) \n",
    "width = 0.05\n",
    "  \n",
    "bar1 = plt.bar(ind, baseline_results, width)\n",
    "bar2 = plt.bar(ind+width, smote_results, width)\n",
    "bar3 = plt.bar(ind+width*2, nearmiss_results, width)\n",
    "bar4 = plt.bar(ind+width*3, cost_sens_results, width)\n",
    "  \n",
    "ax.set_title('Balanced Accuracy Barplots', fontsize=18, fontweight='bold')    \n",
    "plt.xlabel(\"Algorithms\", fontsize=14)\n",
    "plt.ylabel('Balanced Accuracy',fontsize=14)\n",
    "ax.text(1.95,0.84, '(higher is better)', fontsize=12,  color='black')\n",
    "  \n",
    "plt.ylim((0,1))   \n",
    "plt.xticks(ind+width,['DescTree', 'LogReg', 'XGBoost'])\n",
    "plt.legend((bar1, bar2, bar3, bar4),('baseline', 'smote', 'nearmiss', 'cost_sens'))\n",
    "plt.show()"
   ]
  },
  {
   "cell_type": "code",
   "execution_count": null,
   "id": "a1297444",
   "metadata": {},
   "outputs": [],
   "source": []
  }
 ],
 "metadata": {
  "colab": {
   "collapsed_sections": [],
   "name": "class_imbalance.ipynb",
   "provenance": []
  },
  "kernelspec": {
   "display_name": "Python 3 (ipykernel)",
   "language": "python",
   "name": "python3"
  },
  "language_info": {
   "codemirror_mode": {
    "name": "ipython",
    "version": 3
   },
   "file_extension": ".py",
   "mimetype": "text/x-python",
   "name": "python",
   "nbconvert_exporter": "python",
   "pygments_lexer": "ipython3",
   "version": "3.9.8"
  }
 },
 "nbformat": 4,
 "nbformat_minor": 5
}
